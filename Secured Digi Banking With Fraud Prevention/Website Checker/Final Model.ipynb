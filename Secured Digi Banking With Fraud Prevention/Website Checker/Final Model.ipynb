{
 "cells": [
  {
   "cell_type": "code",
   "execution_count": 1,
   "metadata": {},
   "outputs": [],
   "source": [
    "import pandas as pd\n",
    "import numpy as np\n",
    "import pickle,re,random\n",
    "from sklearn.model_selection import train_test_split\n",
    "from sklearn.feature_extraction.text import CountVectorizer\n",
    "from sklearn.naive_bayes import MultinomialNB\n",
    "\n",
    "df=pd.read_csv('url.csv')\n",
    "\n",
    "#DATA CLEANING\n",
    "df=df.dropna()\n",
    "df=df.drop_duplicates()\n",
    "\n",
    "train,test=train_test_split(df,train_size=0.8,random_state=40)\n",
    "train=train.reset_index(drop=True)\n",
    "test=test.reset_index(drop=True)"
   ]
  },
  {
   "cell_type": "code",
   "execution_count": 2,
   "metadata": {},
   "outputs": [],
   "source": [
    "# --Removing un wanted words to train \n",
    "def rtokenize(url):  \n",
    "    tokens = re.split('[/-]', url)\n",
    "    if(tokens[0]==\"https:\" or tokens[0]==\"http:\"):\n",
    "        tokens.pop(0)\n",
    "        \n",
    "    if(tokens[0]==\"\"):\n",
    "        tokens.pop(0)\n",
    "    \n",
    "    for i in tokens:\n",
    "        if i.find(\".\") >= 0:\n",
    "            tokens.remove(i)\n",
    "            dot_split = i.split('.')\n",
    "            if \"com\" in dot_split:\n",
    "                dot_split.remove(\"com\")\n",
    "            if \"www\" in dot_split:\n",
    "                dot_split.remove(\"www\")\n",
    "            tokens += dot_split  \n",
    "    return ' '.join(tokens)\n",
    "\n",
    "train['URLs']=train['URLs'].apply(rtokenize)"
   ]
  },
  {
   "cell_type": "code",
   "execution_count": 3,
   "metadata": {},
   "outputs": [],
   "source": [
    "# Count Vectorizer on data\n",
    "cv=CountVectorizer()\n",
    "cv.fit(train['URLs'])\n",
    "a=cv.transform(train['URLs'])\n",
    "\n",
    "#dump count Vectorizer\n",
    "out=open(\"vectorizer.pickle\",\"wb\")\n",
    "pickle.dump(cv,out)\n",
    "out.close()"
   ]
  },
  {
   "cell_type": "code",
   "execution_count": 4,
   "metadata": {},
   "outputs": [],
   "source": [
    "#Classifier with count vectorizer\n",
    "mb_cv = MultinomialNB()\n",
    "mb_cv.fit(a, train['Class'])\n",
    "\n",
    "#dump Classifier\n",
    "out=open(\"phishing.pickle\",\"wb\")\n",
    "pickle.dump(mb_cv,out)\n",
    "out.close()"
   ]
  },
  {
   "cell_type": "code",
   "execution_count": 5,
   "metadata": {},
   "outputs": [
    {
     "name": "stdout",
     "output_type": "stream",
     "text": [
      "bad\n"
     ]
    }
   ],
   "source": [
    "#Testing with a new input\n",
    "import pickle\n",
    "input=\"genesysproperties.co.ke/john/cp.php?m=login\"\n",
    "pred=[rtokenize(input)]    \n",
    "vecf=open(\"vectorizer.pickle\",\"rb\")\n",
    "vec=pickle.load(vecf)\n",
    "vec=vec.transform(pred)\n",
    "\n",
    "clff=open(\"phishing.pickle\",\"rb\")\n",
    "clf=pickle.load(clff)\n",
    "pred_mb_cv=clf.predict(vec)\n",
    "print(pred_mb_cv[0])"
   ]
  },
  {
   "cell_type": "code",
   "execution_count": null,
   "metadata": {},
   "outputs": [],
   "source": []
  }
 ],
 "metadata": {
  "kernelspec": {
   "display_name": "Python 3",
   "language": "python",
   "name": "python3"
  },
  "language_info": {
   "codemirror_mode": {
    "name": "ipython",
    "version": 3
   },
   "file_extension": ".py",
   "mimetype": "text/x-python",
   "name": "python",
   "nbconvert_exporter": "python",
   "pygments_lexer": "ipython3",
   "version": "3.7.4"
  }
 },
 "nbformat": 4,
 "nbformat_minor": 2
}
